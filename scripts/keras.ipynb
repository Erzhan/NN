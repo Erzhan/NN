{
 "cells": [
  {
   "cell_type": "markdown",
   "metadata": {},
   "source": [
    "# Keras simple neural network"
   ]
  },
  {
   "cell_type": "markdown",
   "metadata": {},
   "source": [
    "### Load data"
   ]
  },
  {
   "cell_type": "code",
   "execution_count": null,
   "metadata": {
    "collapsed": true
   },
   "outputs": [],
   "source": [
    "import pandas as pd\n",
    "\n",
    "X_train = pd.read_csv('../data/X_train.csv')\n",
    "X_test = pd.read_csv('../data/X_test.csv')\n",
    "\n",
    "y_train = pd.read_csv('../data/y_train.csv')\n",
    "y_test = pd.read_csv('../data/y_test.csv')"
   ]
  },
  {
   "cell_type": "code",
   "execution_count": null,
   "metadata": {},
   "outputs": [],
   "source": [
    "print(X_train.shape)\n",
    "print(X_test.shape)\n",
    "print(y_train.shape)\n",
    "print(y_test.shape)"
   ]
  },
  {
   "cell_type": "code",
   "execution_count": null,
   "metadata": {},
   "outputs": [],
   "source": [
    "X_train.head()"
   ]
  },
  {
   "cell_type": "code",
   "execution_count": null,
   "metadata": {},
   "outputs": [],
   "source": [
    "y_train.head()"
   ]
  },
  {
   "cell_type": "markdown",
   "metadata": {},
   "source": [
    "### Plot train and test set"
   ]
  },
  {
   "cell_type": "code",
   "execution_count": null,
   "metadata": {},
   "outputs": [],
   "source": [
    "import matplotlib.pyplot as plt\n",
    "\n",
    "plt.bar([1,2],[y_test.shape[0], int(y_test.sum())], align='center')\n",
    "plt.title('Test set')\n",
    "plt.xticks([1,2], ['0', '1'])\n",
    "#plt.savefig('images/test.png')\n",
    "plt.show()\n",
    "plt.close()\n",
    "\n",
    "plt.bar([1,2],[y_train.shape[0], int(y_train.sum())], align='center')\n",
    "plt.title('Train set')\n",
    "plt.xticks([1,2], ['0', '1'])\n",
    "#plt.savefig('images/train.png')\n",
    "plt.show()\n",
    "plt.close()"
   ]
  },
  {
   "cell_type": "code",
   "execution_count": null,
   "metadata": {},
   "outputs": [],
   "source": [
    "print(1 - y_train.sum()/y_train.shape[0])\n",
    "print(y_train.sum()/y_train.shape[0])\n",
    "print(1 - y_test.sum()/y_test.shape[0])\n",
    "print(y_test.sum()/y_test.shape[0])"
   ]
  },
  {
   "cell_type": "markdown",
   "metadata": {},
   "source": [
    "## Change pandas DataFrame to numpy array"
   ]
  },
  {
   "cell_type": "code",
   "execution_count": null,
   "metadata": {
    "collapsed": true
   },
   "outputs": [],
   "source": [
    "import numpy as np\n",
    "x_train_np = np.array(X_train)\n",
    "y_train_np = np.array(y_train)\n",
    "x_test_np = np.array(X_test)\n",
    "y_test_np = np.array(y_test)"
   ]
  },
  {
   "cell_type": "code",
   "execution_count": null,
   "metadata": {},
   "outputs": [],
   "source": [
    "print (x_train_np.shape)\n",
    "print (x_test_np.shape)"
   ]
  },
  {
   "cell_type": "code",
   "execution_count": null,
   "metadata": {},
   "outputs": [],
   "source": [
    "import keras.backend as K\n",
    "import matplotlib.pyplot as plt\n",
    "\n",
    "from keras.models import Sequential\n",
    "from keras.layers.core import Dense, Activation, Dropout\n",
    "from sklearn.metrics import roc_auc_score\n",
    "\n",
    "optimizers = ['sgd', 'rmsprop', 'adam']\n",
    "metrics = ['mse', 'acc']\n",
    "input_dim = X_train.shape[1]"
   ]
  },
  {
   "cell_type": "code",
   "execution_count": null,
   "metadata": {
    "collapsed": true
   },
   "outputs": [],
   "source": [
    "def plotResults(history, optimizer):\n",
    "        \n",
    "    # Accuracy\n",
    "    plt.plot(history.history['acc'])\n",
    "    plt.plot(history.history['val_acc'])\n",
    "    plt.title('Model accuracy')\n",
    "    plt.ylabel('Accuracy')\n",
    "    plt.xlabel('Epoch')\n",
    "    plt.legend(['train', 'test'], loc='upper left')\n",
    "    #plt.savefig('images/accuracy.png')\n",
    "    plt.show()\n",
    "    plt.close()\n",
    "    \n",
    "    # MSE\n",
    "    plt.plot(history.history['mean_squared_error'])\n",
    "    plt.plot(history.history['val_mean_squared_error'])\n",
    "    plt.title('Model mse')\n",
    "    plt.ylabel('MSE')\n",
    "    plt.xlabel('Epoch')\n",
    "    plt.legend(['train', 'test'], loc='upper left')\n",
    "    #plt.savefig('images/mse.png')\n",
    "    plt.show()\n",
    "    plt.close()\n",
    "\n",
    "    # Loss\n",
    "    plt.plot(history.history['loss'])\n",
    "    plt.plot(history.history['val_loss'])\n",
    "    plt.title('Model loss')\n",
    "    plt.ylabel('loss')\n",
    "    plt.xlabel('Epoch')\n",
    "    plt.legend(['train', 'test'], loc='upper left')\n",
    "    #plt.savefig('images/loss.png')\n",
    "    plt.show()\n",
    "    plt.close()"
   ]
  },
  {
   "cell_type": "code",
   "execution_count": null,
   "metadata": {
    "collapsed": true
   },
   "outputs": [],
   "source": [
    "def buildNN(hidden_layer_neurons_count, with_dropout, optimizer, activations=['relu', 'relu']):\n",
    "    if len(hidden_layer_neurons_count) == 1:\n",
    "        print(\"buildOneHiddenLayerNN:\")\n",
    "    else:\n",
    "        print(\"buildTwoHiddenLayerNN:\")\n",
    "    \n",
    "    model = Sequential()\n",
    "    model.add(Dense(hidden_layer_neurons_count[0], input_dim=input_dim))\n",
    "    model.add(Activation(activations[0]))\n",
    "    \n",
    "    if with_dropout == True:\n",
    "        print(\"Added dropout\")\n",
    "        model.add(Dropout(0.2))\n",
    "        \n",
    "    \n",
    "    if len(hidden_layer_neurons_count) == 2:\n",
    "        print (\"Added second layer\")\n",
    "        model.add(Dense(hidden_layer_neurons_count[1]))\n",
    "        model.add(Activation(activations[1]))\n",
    "\n",
    "        if with_dropout == True:\n",
    "            print(\"Added dropout\")\n",
    "            model.add(Dropout(0.2))\n",
    "\n",
    "    model.add(Dense(1))\n",
    "    model.add(Activation('sigmoid'))\n",
    "\n",
    "    model.compile(loss='binary_crossentropy', optimizer=optimizer, metrics=metrics)\n",
    "    history = model.fit(x_train_np, y_train_np, validation_split=0.2, epochs=50, batch_size=20, verbose=2)\n",
    "    \n",
    "    history_eval = model.evaluate(x_test_np, y_test_np, batch_size=20, verbose=2)\n",
    "    \n",
    "    predict_test = model.predict(x_test_np, batch_size=20)\n",
    "    \n",
    "    print (optimizer)\n",
    "    print (hidden_layer_neurons_count)\n",
    "    print (with_dropout)\n",
    "    print (history_eval)\n",
    "    print (roc_auc_score(y_test_np, predict_test))\n",
    "    \n",
    "    plotResults(history, optimizer)"
   ]
  },
  {
   "cell_type": "markdown",
   "metadata": {},
   "source": [
    "### Small results"
   ]
  },
  {
   "cell_type": "code",
   "execution_count": null,
   "metadata": {},
   "outputs": [],
   "source": [
    "buildNN([3], False, 'adam', ['relu'])"
   ]
  },
  {
   "cell_type": "code",
   "execution_count": null,
   "metadata": {},
   "outputs": [],
   "source": [
    "buildNN([3], False, 'adam', ['tanh'])"
   ]
  }
 ],
 "metadata": {
  "kernelspec": {
   "display_name": "Python 3",
   "language": "python",
   "name": "python3"
  },
  "language_info": {
   "codemirror_mode": {
    "name": "ipython",
    "version": 3
   },
   "file_extension": ".py",
   "mimetype": "text/x-python",
   "name": "python",
   "nbconvert_exporter": "python",
   "pygments_lexer": "ipython3",
   "version": "3.6.1"
  }
 },
 "nbformat": 4,
 "nbformat_minor": 2
}
